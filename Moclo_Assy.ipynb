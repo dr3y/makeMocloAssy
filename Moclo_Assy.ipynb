{
 "cells": [
  {
   "cell_type": "code",
   "execution_count": 1,
   "metadata": {},
   "outputs": [],
   "source": [
    "import sys\n",
    "sys.path.append(\"D:\\\\Documents\\\\GitHub\\\\makeMocloAssy\") \n",
    "import makeMocloAssy as mamo\n"
   ]
  },
  {
   "cell_type": "code",
   "execution_count": 2,
   "metadata": {},
   "outputs": [
    {
     "data": {
      "application/vnd.jupyter.widget-view+json": {
       "model_id": "d4ba2ede05ab45b08f56a9469e5f8e4b",
       "version_major": 2,
       "version_minor": 0
      },
      "text/plain": [
       "HBox(children=(Dropdown(description='Assembly:', options={'180503_newscaff_grnassy': '.\\\\assemblies\\\\180503_ne…"
      ]
     },
     "metadata": {},
     "output_type": "display_data"
    },
    {
     "name": "stdout",
     "output_type": "stream",
     "text": [
      "saving in folder ./DNA/untitled\n",
      "assembling with BsaI\n",
      "===> transfer from B6, plate ASSGGA04 to A1, 266 nl\n",
      "===> transfer from B18, plate ASSGGA04 to A1, 266 nl\n",
      "===> transfer from C15, plate ASSGGA04 to A1, 330 nl\n",
      "===> transfer from B12, plate ASSGGA04 to A1, 266 nl\n",
      "===> transfer from A1, plate ASSGGA04 to A1, 160 nl\n",
      "===> transfer from A5, plate ASSGGA04 to A1, 160 nl\n",
      "Parts in construct test1\n",
      "Detected 1 possible assembly\n",
      "\n",
      "assembling with BsaI\n",
      "===> transfer from B6, plate ASSGGA04 to A2, 266 nl\n",
      "===> transfer from B18, plate ASSGGA04 to A2, 266 nl\n",
      "===> transfer from B17, plate ASSGGA04 to A2, 217 nl\n",
      "===> transfer from B12, plate ASSGGA04 to A2, 266 nl\n",
      "===> transfer from A1, plate ASSGGA04 to A2, 160 nl\n",
      "===> transfer from A5, plate ASSGGA04 to A2, 160 nl\n",
      "Parts in construct test2\n",
      "Detected 1 possible assembly\n",
      "\n"
     ]
    },
    {
     "data": {
      "text/html": [
       "<div>\n",
       "<style scoped>\n",
       "    .dataframe tbody tr th:only-of-type {\n",
       "        vertical-align: middle;\n",
       "    }\n",
       "\n",
       "    .dataframe tbody tr th {\n",
       "        vertical-align: top;\n",
       "    }\n",
       "\n",
       "    .dataframe thead th {\n",
       "        text-align: right;\n",
       "    }\n",
       "</style>\n",
       "<table border=\"1\" class=\"dataframe\">\n",
       "  <thead>\n",
       "    <tr style=\"text-align: right;\">\n",
       "      <th></th>\n",
       "      <th>well</th>\n",
       "      <th>part</th>\n",
       "      <th>circular</th>\n",
       "      <th>length</th>\n",
       "    </tr>\n",
       "  </thead>\n",
       "  <tbody>\n",
       "    <tr>\n",
       "      <th>0</th>\n",
       "      <td>A1</td>\n",
       "      <td>test1</td>\n",
       "      <td>False</td>\n",
       "      <td>1162</td>\n",
       "    </tr>\n",
       "    <tr>\n",
       "      <th>1</th>\n",
       "      <td>A2</td>\n",
       "      <td>test2</td>\n",
       "      <td>False</td>\n",
       "      <td>1091</td>\n",
       "    </tr>\n",
       "  </tbody>\n",
       "</table>\n",
       "</div>"
      ],
      "text/plain": [
       "  well   part  circular  length\n",
       "0   A1  test1     False    1162\n",
       "1   A2  test2     False    1091"
      ]
     },
     "metadata": {},
     "output_type": "display_data"
    }
   ],
   "source": [
    "mamo.makeInteractive()"
   ]
  },
  {
   "cell_type": "code",
   "execution_count": 3,
   "metadata": {
    "scrolled": true
   },
   "outputs": [
    {
     "data": {
      "application/vnd.jupyter.widget-view+json": {
       "model_id": "14e9419ecf64436b829b4cbb50644f51",
       "version_major": 2,
       "version_minor": 0
      },
      "text/plain": [
       "HBox(children=(Text(value='untitled', description='Assembly File Name:', placeholder='type something'), VBox(c…"
      ]
     },
     "metadata": {},
     "output_type": "display_data"
    }
   ],
   "source": [
    "mamo.makeAssemblyFile()"
   ]
  }
 ],
 "metadata": {
  "kernelspec": {
   "display_name": "Python 3",
   "language": "python",
   "name": "python3"
  },
  "language_info": {
   "codemirror_mode": {
    "name": "ipython",
    "version": 3
   },
   "file_extension": ".py",
   "mimetype": "text/x-python",
   "name": "python",
   "nbconvert_exporter": "python",
   "pygments_lexer": "ipython3",
   "version": "3.6.3"
  }
 },
 "nbformat": 4,
 "nbformat_minor": 2
}
