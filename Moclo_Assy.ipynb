{
 "cells": [
  {
   "cell_type": "code",
   "execution_count": 1,
   "metadata": {},
   "outputs": [],
   "source": [
    "#Run this first!\n",
    "import makeMocloAssy as mamo"
   ]
  },
  {
   "cell_type": "code",
   "execution_count": null,
   "metadata": {
    "scrolled": false
   },
   "outputs": [],
   "source": [
    "#This cell is for creating your assembly!\n",
    "#here you can put together the parts located in your source plate.\n",
    "#interface elements:\n",
    "#Assembly...[]: the name of all the assemblies you're doing!\n",
    "#parts list[]: the name of the parts list to use! This picks from which lists\n",
    "#             exist in the \"partslist\" folder on the server.\n",
    "#[Start]: this begins the assembly, locking in the parts list file we're using\n",
    "#[]list all parts: if checked, all parts will be shown in all columns, as long\n",
    "#                 as the assembly is valid!\n",
    "#Dest Well[]: this indicates the first well in the destination plate to use.\n",
    "#            subsequent assemblies are filled in left to right, top to bottom.\n",
    "#[Save!]: this saves the assembly, and creates a csv file on the server which\n",
    "#         can be used for making echo picklists\n",
    "#\n",
    "#\n",
    "#[vector1]...[vector2]: these drop downs will list compatible parts from the\n",
    "#                       parts list\n",
    "#[enzyme]: this tells the picklist generation script how to assemble the parts\n",
    "#         to make assembled sequences. Also it tells the UI whether UNS parts\n",
    "#         should assemble together.\n",
    "#[name]: a unique name! This is mostly for you, but make sure each assembly has\n",
    "#       one!\n",
    "#[+]: this copies the row and adds it to the bottom.\n",
    "#[-]: one press clears all the parts, another press deletes the row entirely\n",
    "mamo.makeAssemblyFile()"
   ]
  },
  {
   "cell_type": "code",
   "execution_count": null,
   "metadata": {
    "scrolled": true
   },
   "outputs": [],
   "source": [
    "#run this cell to make an echo picklist!\n",
    "#you'll get a chance to pick which set of assemblies you want to do, and of\n",
    "#course the parts list to use.\n",
    "mamo.makeInteractive(printstuff=False)"
   ]
  }
 ],
 "metadata": {
  "kernelspec": {
   "display_name": "Python 3",
   "language": "python",
   "name": "python3"
  },
  "language_info": {
   "codemirror_mode": {
    "name": "ipython",
    "version": 3
   },
   "file_extension": ".py",
   "mimetype": "text/x-python",
   "name": "python",
   "nbconvert_exporter": "python",
   "pygments_lexer": "ipython3",
   "version": "3.6.3"
  }
 },
 "nbformat": 4,
 "nbformat_minor": 2
}
