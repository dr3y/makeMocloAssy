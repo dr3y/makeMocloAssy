{
 "cells": [
  {
   "cell_type": "code",
   "execution_count": 1,
   "metadata": {},
   "outputs": [],
   "source": [
    "import sys\n",
    "sys.path.append(\"D:\\\\Documents\\\\GitHub\\\\makeMocloAssy\") \n",
    "import makeMocloAssy as mamo\n"
   ]
  },
  {
   "cell_type": "code",
   "execution_count": 3,
   "metadata": {
    "scrolled": false
   },
   "outputs": [
    {
     "data": {
      "application/vnd.jupyter.widget-view+json": {
       "model_id": "91812bd3f1e84a36b61c8c955fe07456",
       "version_major": 2,
       "version_minor": 0
      },
      "text/plain": [
       "HBox(children=(Text(value='untitled', description='Assembly File Name:', placeholder='type something'), VBox(c…"
      ]
     },
     "metadata": {},
     "output_type": "display_data"
    },
    {
     "data": {
      "application/vnd.jupyter.widget-view+json": {
       "model_id": "4817aca36319481896c18898aa4fe966",
       "version_major": 2,
       "version_minor": 0
      },
      "text/plain": [
       "HBox(children=(VBox(children=(Label(value='promoter'), Dropdown(index=27, layout=Layout(height='30px', width='…"
      ]
     },
     "metadata": {},
     "output_type": "display_data"
    },
    {
     "name": "stdout",
     "output_type": "stream",
     "text": [
      "done!\n"
     ]
    },
    {
     "data": {
      "text/html": [
       "<div>\n",
       "<style scoped>\n",
       "    .dataframe tbody tr th:only-of-type {\n",
       "        vertical-align: middle;\n",
       "    }\n",
       "\n",
       "    .dataframe tbody tr th {\n",
       "        vertical-align: top;\n",
       "    }\n",
       "\n",
       "    .dataframe thead th {\n",
       "        text-align: right;\n",
       "    }\n",
       "</style>\n",
       "<table border=\"1\" class=\"dataframe\">\n",
       "  <thead>\n",
       "    <tr style=\"text-align: right;\">\n",
       "      <th></th>\n",
       "      <th>promoter</th>\n",
       "      <th>UTR</th>\n",
       "      <th>CDS</th>\n",
       "      <th>Terminator</th>\n",
       "      <th>vector1</th>\n",
       "      <th>vector2</th>\n",
       "      <th>enzyme</th>\n",
       "      <th>name</th>\n",
       "      <th>targwell</th>\n",
       "    </tr>\n",
       "  </thead>\n",
       "  <tbody>\n",
       "    <tr>\n",
       "      <th>0</th>\n",
       "      <td>Pveg</td>\n",
       "      <td>bacRBS</td>\n",
       "      <td>RFP</td>\n",
       "      <td>T13m</td>\n",
       "      <td>AmpEF</td>\n",
       "      <td>P15aFA</td>\n",
       "      <td>BsaI</td>\n",
       "      <td>testy1</td>\n",
       "      <td>A1</td>\n",
       "    </tr>\n",
       "    <tr>\n",
       "      <th>1</th>\n",
       "      <td>Pveg</td>\n",
       "      <td>bacRBS</td>\n",
       "      <td>deCFP</td>\n",
       "      <td>T13m</td>\n",
       "      <td>AmpEF</td>\n",
       "      <td>P15aFA</td>\n",
       "      <td>BsaI</td>\n",
       "      <td>testy2</td>\n",
       "      <td>A2</td>\n",
       "    </tr>\n",
       "  </tbody>\n",
       "</table>\n",
       "</div>"
      ],
      "text/plain": [
       "  promoter     UTR    CDS Terminator vector1 vector2 enzyme    name targwell\n",
       "0     Pveg  bacRBS    RFP       T13m   AmpEF  P15aFA   BsaI  testy1       A1\n",
       "1     Pveg  bacRBS  deCFP       T13m   AmpEF  P15aFA   BsaI  testy2       A2"
      ]
     },
     "metadata": {},
     "output_type": "display_data"
    }
   ],
   "source": [
    "mamo.makeAssemblyFile()"
   ]
  },
  {
   "cell_type": "code",
   "execution_count": 2,
   "metadata": {},
   "outputs": [
    {
     "data": {
      "application/vnd.jupyter.widget-view+json": {
       "model_id": "e61595b0974a41838b38f0a94e89a792",
       "version_major": 2,
       "version_minor": 0
      },
      "text/plain": [
       "HBox(children=(Dropdown(description='Assembly:', options={'180503_newscaff_grnassy': '.\\\\assemblies\\\\180503_ne…"
      ]
     },
     "metadata": {},
     "output_type": "display_data"
    },
    {
     "data": {
      "text/html": [
       "<div>\n",
       "<style scoped>\n",
       "    .dataframe tbody tr th:only-of-type {\n",
       "        vertical-align: middle;\n",
       "    }\n",
       "\n",
       "    .dataframe tbody tr th {\n",
       "        vertical-align: top;\n",
       "    }\n",
       "\n",
       "    .dataframe thead th {\n",
       "        text-align: right;\n",
       "    }\n",
       "</style>\n",
       "<table border=\"1\" class=\"dataframe\">\n",
       "  <thead>\n",
       "    <tr style=\"text-align: right;\">\n",
       "      <th></th>\n",
       "      <th>well</th>\n",
       "      <th>part</th>\n",
       "      <th>circular</th>\n",
       "      <th>length</th>\n",
       "    </tr>\n",
       "  </thead>\n",
       "  <tbody>\n",
       "    <tr>\n",
       "      <th>0</th>\n",
       "      <td>O1</td>\n",
       "      <td>Lnt5-X</td>\n",
       "      <td>False</td>\n",
       "      <td>438</td>\n",
       "    </tr>\n",
       "    <tr>\n",
       "      <th>1</th>\n",
       "      <td>O2</td>\n",
       "      <td>Bqinscaff4-5</td>\n",
       "      <td>False</td>\n",
       "      <td>447</td>\n",
       "    </tr>\n",
       "    <tr>\n",
       "      <th>2</th>\n",
       "      <td>O3</td>\n",
       "      <td>Lvtrig5-x</td>\n",
       "      <td>False</td>\n",
       "      <td>428</td>\n",
       "    </tr>\n",
       "    <tr>\n",
       "      <th>3</th>\n",
       "      <td>O4</td>\n",
       "      <td>Bqivscaff4-5</td>\n",
       "      <td>False</td>\n",
       "      <td>437</td>\n",
       "    </tr>\n",
       "    <tr>\n",
       "      <th>4</th>\n",
       "      <td>O5</td>\n",
       "      <td>Lntrig8-x</td>\n",
       "      <td>False</td>\n",
       "      <td>438</td>\n",
       "    </tr>\n",
       "    <tr>\n",
       "      <th>5</th>\n",
       "      <td>O6</td>\n",
       "      <td>Lvtrig8-x</td>\n",
       "      <td>False</td>\n",
       "      <td>428</td>\n",
       "    </tr>\n",
       "    <tr>\n",
       "      <th>6</th>\n",
       "      <td>O7</td>\n",
       "      <td>Bg1nscaff6-7</td>\n",
       "      <td>False</td>\n",
       "      <td>457</td>\n",
       "    </tr>\n",
       "    <tr>\n",
       "      <th>7</th>\n",
       "      <td>O8</td>\n",
       "      <td>Cg2nscaff7-8</td>\n",
       "      <td>False</td>\n",
       "      <td>558</td>\n",
       "    </tr>\n",
       "    <tr>\n",
       "      <th>8</th>\n",
       "      <td>O9</td>\n",
       "      <td>Bg1vscaff6-7</td>\n",
       "      <td>False</td>\n",
       "      <td>447</td>\n",
       "    </tr>\n",
       "    <tr>\n",
       "      <th>9</th>\n",
       "      <td>O10</td>\n",
       "      <td>Cg2vscaff7-8</td>\n",
       "      <td>False</td>\n",
       "      <td>548</td>\n",
       "    </tr>\n",
       "    <tr>\n",
       "      <th>10</th>\n",
       "      <td>O11</td>\n",
       "      <td>Cg1nscaff6-7</td>\n",
       "      <td>False</td>\n",
       "      <td>568</td>\n",
       "    </tr>\n",
       "    <tr>\n",
       "      <th>11</th>\n",
       "      <td>O12</td>\n",
       "      <td>Bg2nscaff7-8</td>\n",
       "      <td>False</td>\n",
       "      <td>447</td>\n",
       "    </tr>\n",
       "    <tr>\n",
       "      <th>12</th>\n",
       "      <td>O13</td>\n",
       "      <td>Cg1vscaff6-7</td>\n",
       "      <td>False</td>\n",
       "      <td>558</td>\n",
       "    </tr>\n",
       "    <tr>\n",
       "      <th>13</th>\n",
       "      <td>O14</td>\n",
       "      <td>Bg2vscaff7-8</td>\n",
       "      <td>False</td>\n",
       "      <td>437</td>\n",
       "    </tr>\n",
       "  </tbody>\n",
       "</table>\n",
       "</div>"
      ],
      "text/plain": [
       "   well          part  circular  length\n",
       "0    O1        Lnt5-X     False     438\n",
       "1    O2  Bqinscaff4-5     False     447\n",
       "2    O3     Lvtrig5-x     False     428\n",
       "3    O4  Bqivscaff4-5     False     437\n",
       "4    O5     Lntrig8-x     False     438\n",
       "5    O6     Lvtrig8-x     False     428\n",
       "6    O7  Bg1nscaff6-7     False     457\n",
       "7    O8  Cg2nscaff7-8     False     558\n",
       "8    O9  Bg1vscaff6-7     False     447\n",
       "9   O10  Cg2vscaff7-8     False     548\n",
       "10  O11  Cg1nscaff6-7     False     568\n",
       "11  O12  Bg2nscaff7-8     False     447\n",
       "12  O13  Cg1vscaff6-7     False     558\n",
       "13  O14  Bg2vscaff7-8     False     437"
      ]
     },
     "metadata": {},
     "output_type": "display_data"
    },
    {
     "data": {
      "text/html": [
       "<a href='.\\DNA\\180503_newscaff_grnassy\\180503_newscaff_grnassy.csv' target='_blank'>.\\DNA\\180503_newscaff_grnassy\\180503_newscaff_grnassy.csv</a><br>"
      ],
      "text/plain": [
       "C:\\Users\\Andrey\\Documents\\GitHub\\makeMocloAssy\\DNA\\180503_newscaff_grnassy\\180503_newscaff_grnassy.csv"
      ]
     },
     "metadata": {},
     "output_type": "display_data"
    },
    {
     "data": {
      "text/html": [
       "<a href='.\\output\\output.csv' target='_blank'>.\\output\\output.csv</a><br>"
      ],
      "text/plain": [
       "C:\\Users\\Andrey\\Documents\\GitHub\\makeMocloAssy\\output\\output.csv"
      ]
     },
     "metadata": {},
     "output_type": "display_data"
    }
   ],
   "source": [
    "mamo.makeInteractive(printstuff=False)"
   ]
  },
  {
   "cell_type": "code",
   "execution_count": 6,
   "metadata": {},
   "outputs": [
    {
     "data": {
      "text/html": [
       "<a href='.\\DNA\\untitled\\untitled.csv' target='_blank'>.\\DNA\\untitled\\untitled.csv</a><br>"
      ],
      "text/plain": [
       "C:\\Users\\Andrey\\Documents\\GitHub\\makeMocloAssy\\DNA\\untitled\\untitled.csv"
      ]
     },
     "metadata": {},
     "output_type": "display_data"
    }
   ],
   "source": [
    "from IPython.display import FileLink, FileLinks\n",
    "display(FileLink(\".\\\\DNA\\\\untitled\\\\untitled.csv\"))"
   ]
  }
 ],
 "metadata": {
  "kernelspec": {
   "display_name": "Python 3",
   "language": "python",
   "name": "python3"
  },
  "language_info": {
   "codemirror_mode": {
    "name": "ipython",
    "version": 3
   },
   "file_extension": ".py",
   "mimetype": "text/x-python",
   "name": "python",
   "nbconvert_exporter": "python",
   "pygments_lexer": "ipython3",
   "version": "3.6.3"
  }
 },
 "nbformat": 4,
 "nbformat_minor": 2
}
